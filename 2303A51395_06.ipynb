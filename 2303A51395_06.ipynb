{
  "nbformat": 4,
  "nbformat_minor": 0,
  "metadata": {
    "colab": {
      "provenance": [],
      "authorship_tag": "ABX9TyOrMpNhB/eWStTwCByse0CF",
      "include_colab_link": true
    },
    "kernelspec": {
      "name": "python3",
      "display_name": "Python 3"
    },
    "language_info": {
      "name": "python"
    }
  },
  "cells": [
    {
      "cell_type": "markdown",
      "metadata": {
        "id": "view-in-github",
        "colab_type": "text"
      },
      "source": [
        "<a href=\"https://colab.research.google.com/github/2303A51395/2303A51395/blob/main/2303A51395_06.ipynb\" target=\"_parent\"><img src=\"https://colab.research.google.com/assets/colab-badge.svg\" alt=\"Open In Colab\"/></a>"
      ]
    },
    {
      "cell_type": "code",
      "execution_count": null,
      "metadata": {
        "id": "grxnvTj6ly4p"
      },
      "outputs": [],
      "source": []
    },
    {
      "cell_type": "markdown",
      "source": [
        "Prediction of Gender by Names given to the new born babies\n",
        "\n",
        "Q1. Identify the Top-10 popular names given to babies\n",
        "\n",
        "Q2. Find the Max and Min count of babies with similar names.\n",
        "\n",
        "Q3.Name the gender which has acquired the most names among the babies\n",
        "\n",
        "Q4.Identify the Top-5 probabilities of occurrence of Male and Gender By Name Female babies\n",
        "\n",
        "Q5.Name the Top-5 names with highest probabilities.\n",
        "\n",
        "Q6. Apply either Classification or Clustering or Regression Model and evaluate the accuracy, error metrics of the model."
      ],
      "metadata": {
        "id": "h4QJpqXeoDCc"
      }
    },
    {
      "cell_type": "code",
      "source": [
        "import pandas as pd\n",
        "\n",
        "# Replace 'baby_names.csv' with the actual path to your file.\n",
        "# If your file is in the current directory where you run the script,\n",
        "# ensure the file is actually present.\n",
        "# If not, update with the correct absolute path\n",
        "# e.g., '/home/user/data/baby_names.csv'\n",
        "# If using Google Colab or similar platform, you will need to upload the file first.\n",
        "\n",
        "# Assuming the file is in the same directory as the script\n",
        "# try using './baby_names.csv' to specify the current directory\n",
        "file_path = './baby_names.csv'  # Or provide the absolute path\n",
        "try:\n",
        "    data = pd.read_csv(file_path)\n",
        "    data['Name'] = data['Name'].str.lower()\n",
        "    top_10_names = data.groupby('Name')['Count'].sum().sort_values(ascending=False).head(10)\n",
        "    print(\"Top-10 Popular Names:\")\n",
        "    print(top_10_names)\n",
        "except FileNotFoundError:\n",
        "    print(f\"Error: File not found at {file_path}. \"\n",
        "          f\"Please check the file path and ensure the file exists.\")"
      ],
      "metadata": {
        "colab": {
          "base_uri": "https://localhost:8080/"
        },
        "id": "HyjwHBsgqxxt",
        "outputId": "a1ee6bc8-9e8e-4a9d-eb4b-0997164f7b5b"
      },
      "execution_count": 5,
      "outputs": [
        {
          "output_type": "stream",
          "name": "stdout",
          "text": [
            "Error: File not found at ./baby_names.csv. Please check the file path and ensure the file exists.\n"
          ]
        }
      ]
    },
    {
      "cell_type": "code",
      "source": [
        "import pandas as pd\n",
        "\n",
        "# Update with the correct file path\n",
        "file_path = 'baby_names.csv'  # Replace with the actual path if different\n",
        "\n",
        "# Use try-except to handle file not found error\n",
        "try:\n",
        "    data = pd.read_csv(file_path)\n",
        "\n",
        "    # Example structure of CSV:\n",
        "    # Name, Count\n",
        "    # Emma, 20000\n",
        "    # Liam, 18000\n",
        "    # Olivia, 17500\n",
        "    # ...\n",
        "\n",
        "    # Group by name and sum counts (if names can appear multiple times)\n",
        "    name_counts = data.groupby('Name')['Count'].sum()\n",
        "\n",
        "    # Find max and min count\n",
        "    max_count = name_counts.max()\n",
        "    min_count = name_counts.min()\n",
        "\n",
        "    # Get names with max and min count\n",
        "    max_names = name_counts[name_counts == max_count].index.tolist()\n",
        "    min_names = name_counts[name_counts == min_count].index.tolist()\n",
        "\n",
        "    # Output results\n",
        "    print(f\"Maximum count: {max_count}, Names: {max_names}\")\n",
        "    print(f\"Minimum count: {min_count}, Names: {min_names}\")\n",
        "\n",
        "except FileNotFoundError:\n",
        "    print(f\"Error: File not found at {file_path}. \"\n",
        "          f\"Please check the file path and ensure the file exists.\")"
      ],
      "metadata": {
        "colab": {
          "base_uri": "https://localhost:8080/"
        },
        "id": "tK_1frrgsDF5",
        "outputId": "ebd46acd-6e78-4b76-9be8-2c03b013aa8a"
      },
      "execution_count": 7,
      "outputs": [
        {
          "output_type": "stream",
          "name": "stdout",
          "text": [
            "Error: File not found at baby_names.csv. Please check the file path and ensure the file exists.\n"
          ]
        }
      ]
    },
    {
      "cell_type": "code",
      "source": [
        "import pandas as pd\n",
        "\n",
        "# Load the dataset\n",
        "# Replace 'baby_names.csv' with the actual path to your file.\n",
        "# If your file is in the current directory where you run the script,\n",
        "# ensure the file is actually present.\n",
        "# If not, update with the correct absolute path\n",
        "# e.g., '/home/user/data/baby_names.csv'\n",
        "# If using Google Colab or similar platform, you will need to upload the file first.\n",
        "# Assuming the file is in the same directory as the script, try using\n",
        "# './baby_names.csv' to specify the current directory\n",
        "file_path = './baby_names.csv'  # Or provide the absolute path\n",
        "try:\n",
        "    data = pd.read_csv(file_path)\n",
        "\n",
        "    # Example structure of CSV:\n",
        "    # Name, Gender, Count\n",
        "    # Emma, F, 20000\n",
        "    # Liam, M, 18000\n",
        "    # Olivia, F, 17500\n",
        "    # ...\n",
        "\n",
        "    # Group by Gender and find the number of distinct names\n",
        "    gender_name_counts = data.groupby('Gender')['Name'].nunique()\n",
        "\n",
        "    # Find the gender with the most distinct names\n",
        "    most_names_gender = gender_name_counts.idxmax()\n",
        "    most_names_count = gender_name_counts.max()\n",
        "\n",
        "    # Output the result\n",
        "    print(f\"The gender with the most distinct names is '{most_names_gender}' with {most_names_count} names.\")\n",
        "\n",
        "except FileNotFoundError:\n",
        "    print(f\"Error: File not found at {file_path}. \"\n",
        "          f\"Please check the file path and ensure the file exists.\")"
      ],
      "metadata": {
        "colab": {
          "base_uri": "https://localhost:8080/"
        },
        "id": "U5kSRYULtDzB",
        "outputId": "9215b2b3-92af-4c98-c328-cbfd075edbc8"
      },
      "execution_count": 9,
      "outputs": [
        {
          "output_type": "stream",
          "name": "stdout",
          "text": [
            "Error: File not found at ./baby_names.csv. Please check the file path and ensure the file exists.\n"
          ]
        }
      ]
    },
    {
      "cell_type": "code",
      "source": [
        "import pandas as pd\n",
        "\n",
        "# Replace 'baby_names.csv' with the actual path to your file.\n",
        "# If your file is in the current directory where you run the script,\n",
        "# ensure the file is actually present.\n",
        "# If not, update with the correct absolute path\n",
        "# e.g., '/home/user/data/baby_names.csv'\n",
        "# If using Google Colab or similar platform, you will need to upload the file first.\n",
        "\n",
        "# Assuming the file is in the same directory as the script, try using\n",
        "# './baby_names.csv' to specify the current directory\n",
        "file_path = './baby_names.csv'  # Or provide the absolute path\n",
        "try:\n",
        "    data = pd.read_csv(file_path)\n",
        "# The file_path variable is now used to specify the location of the CSV file.\n",
        "# This ensures that pd.read_csv looks in the correct location.\n",
        "\n",
        "\n",
        "    # Example structure of CSV:\n",
        "    # Name, Gender, Count\n",
        "    # Emma, F, 20000\n",
        "    # Liam, M, 18000\n",
        "    # Olivia, F, 17500\n",
        "    # Noah, M, 17000\n",
        "    # ...\n",
        "\n",
        "    # Calculate total counts for each name\n",
        "    name_total_counts = data.groupby('Name')['Count'].sum().reset_index()\n",
        "    name_total_counts.rename(columns={'Count': 'Total_Count'}, inplace=True)\n",
        "\n",
        "    # Merge total counts with original data\n",
        "    data = pd.merge(data, name_total_counts, on='Name')\n",
        "\n",
        "    # Calculate probability of each name being Male or Female\n",
        "    data['Probability'] = data['Count'] / data['Total_Count']\n",
        "\n",
        "    # Filter top-5 probabilities for Male and Female\n",
        "    top_male = data[data['Gender'] == 'M'].sort_values(by='Probability', ascending=False).head(5)\n",
        "    top_female = data[data['Gender'] == 'F'].sort_values(by='Probability', ascending=False).head(5)\n",
        "\n",
        "    # Output results\n",
        "    print(\"Top 5 Male Names by Probability:\")\n",
        "    print(top_male[['Name', 'Probability']])\n",
        "\n",
        "    print(\"\\nTop 5 Female Names by Probability:\")\n",
        "    print(top_female[['Name', 'Probability']])\n",
        "except FileNotFoundError:\n",
        "    print(f\"Error: File not found at {file_path}. \"\n",
        "          f\"Please check the file path and ensure the file exists.\")"
      ],
      "metadata": {
        "colab": {
          "base_uri": "https://localhost:8080/"
        },
        "id": "sONxK-p6t6ZB",
        "outputId": "25d20550-daff-49c0-b91b-4e0b5deaec86"
      },
      "execution_count": 11,
      "outputs": [
        {
          "output_type": "stream",
          "name": "stdout",
          "text": [
            "Error: File not found at ./baby_names.csv. Please check the file path and ensure the file exists.\n"
          ]
        }
      ]
    },
    {
      "cell_type": "code",
      "source": [
        "import pandas as pd\n",
        "\n",
        "# Load the dataset\n",
        "# Update 'baby_names.csv' with the actual path to your file.\n",
        "# If your file is in the current directory where you run the script,\n",
        "# ensure the file is actually present.\n",
        "# If not, update with the correct absolute path\n",
        "# e.g., '/home/user/data/baby_names.csv'\n",
        "# If using Google Colab or similar platform, you will need to upload the file first.\n",
        "# Assuming the file is in the same directory as the script, try using\n",
        "# './baby_names.csv' to specify the current directory\n",
        "file_path = './baby_names.csv'  # Or provide the absolute path\n",
        "# If the file is not found in the current directory, try providing the full path.\n",
        "# For example: file_path = '/path/to/your/file/baby_names.csv'\n",
        "try:\n",
        "    data = pd.read_csv(file_path)\n",
        "\n",
        "    # ... (rest of your code) ...\n",
        "\n",
        "except FileNotFoundError:\n",
        "    print(f\"Error: File not found at {file_path}. \"\n",
        "          f\"Please check the file path and ensure the file exists.\")"
      ],
      "metadata": {
        "colab": {
          "base_uri": "https://localhost:8080/"
        },
        "id": "XGiU6tQCujXs",
        "outputId": "a4a18fce-a886-48d0-fc21-0f34bb415f6d"
      },
      "execution_count": 13,
      "outputs": [
        {
          "output_type": "stream",
          "name": "stdout",
          "text": [
            "Error: File not found at ./baby_names.csv. Please check the file path and ensure the file exists.\n"
          ]
        }
      ]
    },
    {
      "cell_type": "code",
      "source": [
        "import pandas as pd\n",
        "\n",
        "# Update with the correct file path\n",
        "file_path = 'baby_names.csv'  # Replace with the actual path to your file\n",
        "\n",
        "# Use try-except to handle file not found error\n",
        "try:\n",
        "    data = pd.read_csv(file_path)\n",
        "    # If the file is not in the same directory as your script,\n",
        "    # provide the full path:\n",
        "    # file_path = '/path/to/your/file/baby_names.csv'\n",
        "    # data = pd.read_csv(file_path)\n",
        "    # ... (rest of your code) ...\n",
        "\n",
        "except FileNotFoundError:\n",
        "    print(f\"Error: File not found at {file_path}. \"\n",
        "          f\"Please check the file path and ensure the file exists.\")"
      ],
      "metadata": {
        "colab": {
          "base_uri": "https://localhost:8080/"
        },
        "id": "wQ1CELZOvWFJ",
        "outputId": "dd00c333-daff-4dc2-ba90-a0dc105c150d"
      },
      "execution_count": 18,
      "outputs": [
        {
          "output_type": "stream",
          "name": "stdout",
          "text": [
            "Error: File not found at baby_names.csv. Please check the file path and ensure the file exists.\n"
          ]
        }
      ]
    }
  ]
}