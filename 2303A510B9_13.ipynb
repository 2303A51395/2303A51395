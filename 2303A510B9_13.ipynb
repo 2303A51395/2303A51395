{
  "nbformat": 4,
  "nbformat_minor": 0,
  "metadata": {
    "colab": {
      "provenance": [],
      "authorship_tag": "ABX9TyP8aAkFJrguwfw6G4KzeeDs",
      "include_colab_link": true
    },
    "kernelspec": {
      "name": "python3",
      "display_name": "Python 3"
    },
    "language_info": {
      "name": "python"
    }
  },
  "cells": [
    {
      "cell_type": "markdown",
      "metadata": {
        "id": "view-in-github",
        "colab_type": "text"
      },
      "source": [
        "<a href=\"https://colab.research.google.com/github/2303A51395/2303A51395/blob/main/2303A510B9_13.ipynb\" target=\"_parent\"><img src=\"https://colab.research.google.com/assets/colab-badge.svg\" alt=\"Open In Colab\"/></a>"
      ]
    },
    {
      "cell_type": "markdown",
      "source": [
        "Prediction of Individual Household Electricity Consumption\n",
        "1. Identify the top 5 reasons for Electricity Consumption?\n",
        "\n",
        "2. Name the Date and Time when consumption was High?\n",
        "\n",
        "3. Find the Max and Min levels of Electricity Consumption?\n",
        "\n",
        "4. Which among the sub_metering system has the Highest Consumption?\n",
        "\n",
        "5. Identify the consumption counts of Global Electricity Values?\n",
        "\n",
        "6. Apply the K-means Clustering model to the dataset and evaluate its metrics, error and accuracy."
      ],
      "metadata": {
        "id": "sJpTItioshJX"
      }
    },
    {
      "cell_type": "code",
      "source": [
        "import pandas as pd\n",
        "import os\n",
        "\n",
        "# Get the current working directory\n",
        "current_directory = os.getcwd()\n",
        "\n",
        "# Construct the file path relative to the current working directory\n",
        "file_path = os.path.join(current_directory, 'data', \"household_power_consumption.csv\")\n",
        "\n",
        "# If the file is located elsewhere, provide the correct absolute path\n",
        "# For instance:\n",
        "# file_path = \"/path/to/your/file/household_power_consumption.csv\"\n",
        "\n",
        "# Check if the file exists\n",
        "if not os.path.exists(file_path):\n",
        "    # Print an error message\n",
        "    print(f\"Error: File not found at {file_path}\")\n",
        "    # Optionally, you can raise an exception to stop the script\n",
        "    # raise FileNotFoundError(f\"File not found at {file_path}\")\n",
        "else:\n",
        "    # Read the CSV file using the updated path\n",
        "    data = pd.read_csv(file_path)"
      ],
      "metadata": {
        "colab": {
          "base_uri": "https://localhost:8080/"
        },
        "id": "-PAaeati1XDC",
        "outputId": "790a5703-c942-455d-ea97-c6c9c760dd97"
      },
      "execution_count": 17,
      "outputs": [
        {
          "output_type": "stream",
          "name": "stdout",
          "text": [
            "Error: File not found at /content/data/household_power_consumption.csv\n"
          ]
        }
      ]
    },
    {
      "cell_type": "code",
      "source": [
        "import pandas as pd\n",
        "import os\n",
        "\n",
        "# Get the current working directory\n",
        "current_directory = os.getcwd()\n",
        "\n",
        "# Construct the file path relative to the current working directory\n",
        "file_path = os.path.join(current_directory, 'household_power_consumption.csv')\n",
        "# The file might be directly in the current working directory, not in a 'data' subfolder.\n",
        "# If this is incorrect, adjust the path to the correct location of your file.\n",
        "\n",
        "# If the file is located elsewhere, provide the correct absolute path\n",
        "# For instance:\n",
        "# file_path = \"/path/to/your/file/household_power_consumption.csv\"\n",
        "\n",
        "# Check if the file exists\n",
        "if not os.path.exists(file_path):\n",
        "    # Print an error message\n",
        "    print(f\"Error: File not found at {file_path}\")\n",
        "    # Optionally, you can raise an exception to stop the script\n",
        "    # raise FileNotFoundError(f\"File not found at {file_path}\")\n",
        "else:\n",
        "    # Read the CSV file using the updated path\n",
        "    data = pd.read_csv(file_path)  # Use the corrected file path.\n",
        "\n",
        "# ... (rest of your code)"
      ],
      "metadata": {
        "colab": {
          "base_uri": "https://localhost:8080/"
        },
        "id": "di8sMu5_3Pbj",
        "outputId": "617ce1da-29fd-45e3-f6ea-a160fd869136"
      },
      "execution_count": 18,
      "outputs": [
        {
          "output_type": "stream",
          "name": "stdout",
          "text": [
            "Error: File not found at /content/household_power_consumption.csv\n"
          ]
        }
      ]
    },
    {
      "cell_type": "code",
      "source": [
        "import pandas as pd\n",
        "import os\n",
        "\n",
        "# Get the current working directory\n",
        "current_directory = os.getcwd()\n",
        "\n",
        "# Construct the file path relative to the current working directory\n",
        "# Assuming the file is in a 'data' subfolder\n",
        "file_path = os.path.join(current_directory, 'data', 'household_power_consumption.csv')\n",
        "\n",
        "# If the file is located elsewhere, provide the correct absolute path\n",
        "# For instance:\n",
        "# file_path = \"/path/to/your/file/household_power_consumption.csv\"\n",
        "\n",
        "# Check if the file exists\n",
        "if not os.path.exists(file_path):\n",
        "    # Print an error message\n",
        "    print(f\"Error: File not found at {file_path}\")\n",
        "    # Optionally, you can raise an exception to stop the script\n",
        "    # raise FileNotFoundError(f\"File not found at {file_path}\")\n",
        "else:\n",
        "    # Read the CSV file using the updated path\n",
        "    data = pd.read_csv(file_path)\n",
        "\n",
        "    # Find the maximum and minimum electricity consumption\n",
        "    # Replace 'Consumption' with the actual column name for electricity consumption\n",
        "    # Assuming the column name is 'Global_active_power' based on the dataset\n",
        "    max_consumption = data['Global_active_power'].max()\n",
        "    min_consumption = data['Global_active_power'].min()\n",
        "\n",
        "    print(f\"The maximum electricity consumption is: {max_consumption}\")\n",
        "    print(f\"The minimum electricity consumption is: {min_consumption}\")"
      ],
      "metadata": {
        "colab": {
          "base_uri": "https://localhost:8080/"
        },
        "id": "SY3mDhR35Ngr",
        "outputId": "1bee5a3e-263c-4852-8a33-501ebcb431db"
      },
      "execution_count": 19,
      "outputs": [
        {
          "output_type": "stream",
          "name": "stdout",
          "text": [
            "Error: File not found at /content/data/household_power_consumption.csv\n"
          ]
        }
      ]
    },
    {
      "cell_type": "code",
      "source": [
        "import pandas as pd\n",
        "import os\n",
        "\n",
        "# Get the current working directory\n",
        "current_directory = os.getcwd()\n",
        "\n",
        "# **Updated file path: Assuming the file is in the current working directory**\n",
        "# **If your file is in a different location, replace 'household_power_consumption.csv' with the correct path.**\n",
        "file_path = os.path.join(current_directory, 'household_power_consumption.csv')\n",
        "\n",
        "# If the file is located elsewhere, provide the correct absolute path\n",
        "# For instance:\n",
        "# file_path = \"/path/to/your/file/household_power_consumption.csv\"\n",
        "\n",
        "# Check if the file exists\n",
        "if not os.path.exists(file_path):\n",
        "    # Print an error message\n",
        "    print(f\"Error: File not found at {file_path}\")\n",
        "\n",
        "    # Instead of exiting, raise the exception for better handling:\n",
        "    # This line was causing the error because the file was not found\n",
        "    # We will comment it out for now to prevent the script from stopping\n",
        "    # raise FileNotFoundError(f\"File not found at {file_path}\")\n",
        "    print(\"Please make sure the file 'household_power_consumption.csv' is in the correct location.\")\n",
        "else:\n",
        "    # Read the CSV file using the updated path\n",
        "    # Call the read_csv function with the file path\n",
        "    data = pd.read_csv(file_path)"
      ],
      "metadata": {
        "colab": {
          "base_uri": "https://localhost:8080/"
        },
        "id": "6EnvrE-L9e3g",
        "outputId": "770af1a0-a7b1-4746-c350-5a425125add0"
      },
      "execution_count": 10,
      "outputs": [
        {
          "output_type": "stream",
          "name": "stdout",
          "text": [
            "Error: File not found at /content/household_power_consumption.csv\n",
            "Please make sure the file 'household_power_consumption.csv' is in the correct location.\n"
          ]
        }
      ]
    },
    {
      "cell_type": "code",
      "source": [
        "import pandas as pd\n",
        "import os\n",
        "\n",
        "# Get the current working directory\n",
        "current_directory = os.getcwd()\n",
        "\n",
        "# Explicitly specify the path to the 'data' directory if it's different\n",
        "data_directory = os.path.join(current_directory, 'data') # Assuming 'data' is a subdirectory\n",
        "\n",
        "# Construct the absolute file path\n",
        "file_path = os.path.join(data_directory, 'household_power_consumption.csv')\n",
        "\n",
        "# If the file is located elsewhere, provide the correct absolute path\n",
        "# For instance:\n",
        "# file_path = \"/path/to/your/file/household_power_consumption.csv\"\n",
        "\n",
        "# Check if the file exists\n",
        "if not os.path.exists(file_path):\n",
        "    # Print an error message\n",
        "    print(f\"Error: File not found at {file_path}\")\n",
        "    # Optionally, you can raise an exception to stop the script\n",
        "    # raise FileNotFoundError(f\"File not found at {file_path}\")\n",
        "\n",
        "# Read the CSV file using the absolute file path\n",
        "# Only proceed if the file was found\n",
        "if os.path.exists(file_path):\n",
        "    data = pd.read_csv(file_path)\n",
        "\n",
        "    # Count the occurrences of each unique Global_active_power value\n",
        "    consumption_counts = data['Global_active_power'].value_counts()\n",
        "\n",
        "    # Output the result\n",
        "    print(\"Consumption counts of Global Electricity values:\")\n",
        "    print(consumption_counts)\n",
        "else:\n",
        "    print(\"Please ensure 'household_power_consumption.csv' is in the 'data' directory within your current working directory.\")"
      ],
      "metadata": {
        "colab": {
          "base_uri": "https://localhost:8080/"
        },
        "id": "NSmyHXAA-dXL",
        "outputId": "d18202cf-4fcc-47c9-9941-d25da0f42fcd"
      },
      "execution_count": 14,
      "outputs": [
        {
          "output_type": "stream",
          "name": "stdout",
          "text": [
            "Error: File not found at /content/data/household_power_consumption.csv\n",
            "Please ensure 'household_power_consumption.csv' is in the 'data' directory within your current working directory.\n"
          ]
        }
      ]
    },
    {
      "cell_type": "code",
      "source": [
        "import pandas as pd\n",
        "import numpy as np\n",
        "from sklearn.cluster import KMeans\n",
        "from sklearn.preprocessing import StandardScaler\n",
        "from sklearn.metrics import silhouette_score\n",
        "import os\n",
        "\n",
        "# Get the current working directory\n",
        "current_directory = os.getcwd()\n",
        "\n",
        "# Construct the file path relative to the current working directory\n",
        "# Assuming the file is in a 'data' subfolder\n",
        "file_path = os.path.join(current_directory, 'household_power_consumption.csv')\n",
        "\n",
        "# If the file is located elsewhere, provide the correct absolute path\n",
        "# For instance:\n",
        "# file_path = \"/path/to/your/file/household_power_consumption.csv\"\n",
        "\n",
        "# Check if the file exists\n",
        "if not os.path.exists(file_path):\n",
        "    # Print an error message\n",
        "    print(f\"Error: File not found at {file_path}\")\n",
        "    # Optionally, you can raise an exception to stop the script\n",
        "    # raise FileNotFoundError(f\"File not found at {file_path}\")\n",
        "else:\n",
        "    # Load the dataset using the updated file path\n",
        "    data = pd.read_csv(file_path)\n",
        "\n",
        "    # Select relevant features for clustering (e.g., 'Global_active_power' and sub-metering columns)\n",
        "    # Adjust feature selection based on the dataset structure\n",
        "    features = data[['Global_active_power', 'Sub_metering_1', 'Sub_metering_2', 'Sub_metering_3']]\n",
        "\n",
        "    # Handle missing values if any\n",
        "    features = features.dropna()\n",
        "\n",
        "    # Standardize the features for better performance\n",
        "    scaler = StandardScaler()\n",
        "    scaled_features = scaler.fit_transform(features)\n",
        "\n",
        "    # Apply K-means clustering\n",
        "    kmeans = KMeans(n_clusters=3, random_state=42)  # Adjust the number of clusters as needed\n",
        "    kmeans.fit(scaled_features)\n",
        "\n",
        "    # Assign cluster labels to the data\n",
        "    data['Cluster'] = kmeans.labels_\n",
        "\n",
        "    # Evaluate the model\n",
        "    # 1. Inertia (error metric)\n",
        "    inertia = kmeans.inertia_\n",
        "\n",
        "    # 2. Silhouette score (clustering performance metric)\n",
        "    silhouette_avg = silhouette_score(scaled_features, kmeans.labels_)\n",
        "\n",
        "    # Output results\n",
        "    print(\"K-means Clustering Results:\")\n",
        "    print(\"Inertia (Sum of squared distances to closest cluster center):\", inertia)\n",
        "    print(\"Silhouette Score:\", silhouette_avg)\n",
        "\n",
        "    # Print the first few rows with cluster labels\n",
        "    print(data.head())"
      ],
      "metadata": {
        "colab": {
          "base_uri": "https://localhost:8080/"
        },
        "id": "BWpNP-az_V30",
        "outputId": "a84163d1-df59-4bb7-b096-97f5f911d1ff"
      },
      "execution_count": 16,
      "outputs": [
        {
          "output_type": "stream",
          "name": "stdout",
          "text": [
            "Error: File not found at /content/household_power_consumption.csv\n"
          ]
        }
      ]
    }
  ]
}